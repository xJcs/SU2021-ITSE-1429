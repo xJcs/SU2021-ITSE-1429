{
  "nbformat": 4,
  "nbformat_minor": 0,
  "metadata": {
    "colab": {
      "name": "0101.hello.ipynb",
      "provenance": [],
      "authorship_tag": "ABX9TyOfHKvszfVh5aYX4fY7LRfT",
      "include_colab_link": true
    },
    "kernelspec": {
      "name": "python3",
      "display_name": "Python 3"
    },
    "language_info": {
      "name": "python"
    }
  },
  "cells": [
    {
      "cell_type": "markdown",
      "metadata": {
        "id": "view-in-github",
        "colab_type": "text"
      },
      "source": [
        "<a href=\"https://colab.research.google.com/github/xJcs/SU2021-ITSE-1429/blob/main/0101_hello.ipynb\" target=\"_parent\"><img src=\"https://colab.research.google.com/assets/colab-badge.svg\" alt=\"Open In Colab\"/></a>"
      ]
    },
    {
      "cell_type": "code",
      "metadata": {
        "colab": {
          "base_uri": "https://localhost:8080/"
        },
        "id": "l21eW8FHFHTU",
        "outputId": "c9dea410-0e33-4efc-ba17-759113b0e054"
      },
      "source": [
        "print('hello world')\n",
        "print(\"My name is Jose and I'm coding in Python!\")"
      ],
      "execution_count": 2,
      "outputs": [
        {
          "output_type": "stream",
          "text": [
            "hello world\n",
            "My name is Jose and I'm coding in Python!\n"
          ],
          "name": "stdout"
        }
      ]
    }
  ]
}